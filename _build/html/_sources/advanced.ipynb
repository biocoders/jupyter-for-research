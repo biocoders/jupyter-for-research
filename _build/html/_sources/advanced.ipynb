{
 "cells": [
  {
   "cell_type": "markdown",
   "id": "c4c60650-2f42-4d46-ad67-03b302f5a5c1",
   "metadata": {},
   "source": [
    "# Advanced Jupyter Topics"
   ]
  },
  {
   "cell_type": "markdown",
   "id": "98328741-1959-4614-ba5e-2760f74f9b6a",
   "metadata": {},
   "source": [
    "## Open in Colab button\n",
    "\n",
    "[![Open in Colab](https://colab.research.google.com/assets/colab-badge.svg)](https://colab.research.google.com/github/biocoders/jupyter-for-research/blob/master/advanced.ipynb)"
   ]
  },
  {
   "cell_type": "markdown",
   "id": "d38cd3d8-ac7c-4641-9b31-507d464c2a75",
   "metadata": {},
   "source": [
    "## Widgets and Dashboards"
   ]
  },
  {
   "cell_type": "code",
   "execution_count": 18,
   "id": "73442407-94c1-4ad4-856e-a2aa01c849e6",
   "metadata": {},
   "outputs": [
    {
     "data": {
      "application/vnd.jupyter.widget-view+json": {
       "model_id": "07177d2f11f345cea4ef841f3ced898b",
       "version_major": 2,
       "version_minor": 0
      },
      "text/plain": [
       "HBox(children=(Label(value='Number of clicks'), IntText(value=0), Button(description='Click me!', style=Button…"
      ]
     },
     "metadata": {},
     "output_type": "display_data"
    }
   ],
   "source": [
    "from ipywidgets import Button, IntText, Label, VBox, HBox\n",
    "\n",
    "button = Button()\n",
    "button.description = \"Click me!\"\n",
    "\n",
    "output = IntText()\n",
    "output.value = 0\n",
    "\n",
    "def update_counter(evt):\n",
    "    output.value += 1\n",
    "\n",
    "button.on_click(update_counter)\n",
    "HBox([Label(\"Number of clicks\"), output, button])"
   ]
  },
  {
   "cell_type": "markdown",
   "id": "34c46958-ad1f-4d19-b620-7cf5013633ef",
   "metadata": {},
   "source": [
    "## Voila example\n",
    "\n",
    "![](./assets/demo-dashboard.gif)"
   ]
  },
  {
   "cell_type": "markdown",
   "id": "4d831481-1cbe-4502-811e-801e71bbe904",
   "metadata": {},
   "source": [
    "## Jupyter Books\n",
    "\n",
    "Jupyter books are a popular way to create documentation for projects with working code examples\n",
    "\n",
    "An example of this is the current deeplabcut docs:\n",
    "https://deeplabcut.github.io/DeepLabCut/README.html\n",
    "\n",
    "![](./assets/dlc-jupyterbooks.png)"
   ]
  },
  {
   "cell_type": "markdown",
   "id": "9543e2f0-fe11-4e32-99f4-de9326bbe83d",
   "metadata": {},
   "source": [
    "This project also uses jupyter books!\n",
    "\n",
    "You can see it published here\n",
    "\n",
    "For instructions on how to use it with github (/gitpages), look here: https://jupyterbook.org/en/stable/publish/gh-pages.html"
   ]
  }
 ],
 "metadata": {
  "kernelspec": {
   "display_name": "Python 3 (ipykernel)",
   "language": "python",
   "name": "python3"
  },
  "language_info": {
   "codemirror_mode": {
    "name": "ipython",
    "version": 3
   },
   "file_extension": ".py",
   "mimetype": "text/x-python",
   "name": "python",
   "nbconvert_exporter": "python",
   "pygments_lexer": "ipython3",
   "version": "3.9.12"
  }
 },
 "nbformat": 4,
 "nbformat_minor": 5
}
